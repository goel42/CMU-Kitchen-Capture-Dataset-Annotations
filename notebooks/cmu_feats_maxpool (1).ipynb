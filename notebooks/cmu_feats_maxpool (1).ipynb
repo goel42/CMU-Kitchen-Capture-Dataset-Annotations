{
 "cells": [
  {
   "cell_type": "code",
   "execution_count": 13,
   "metadata": {},
   "outputs": [],
   "source": [
    "import cv2\n",
    "import os\n",
    "import itertools\n",
    "import numpy as np\n",
    "import pandas as pd\n",
    "import json"
   ]
  },
  {
   "cell_type": "code",
   "execution_count": 58,
   "metadata": {},
   "outputs": [
    {
     "data": {
      "text/plain": [
       "dict_keys(['S07', 'S08', 'S12', 'S15', 'S16', 'S17', 'S18', 'S19', 'S20', 'S22', 'S25', 'S28', 'S29', 'S30', 'S31', 'S32', 'S34', 'S35', 'S36', 'S41', 'S47', 'S49', 'S50', 'S51', 'S52', 'S54', 'S55', 'stats'])"
      ]
     },
     "execution_count": 58,
     "metadata": {},
     "output_type": "execute_result"
    }
   ],
   "source": [
    "activity = \"Sandwich\"\n",
    "feats_dir_orig = \"/mnt/data/ar-datasets/cmu-kitchen/features2\"\n",
    "feats_dir_orig = os.path.join(feats_dir_orig, activity)\n",
    "\n",
    "\n",
    "feats_dir_maxpool = \"/mnt/data/ar-datasets/cmu-kitchen/features_maxpool\"\n",
    "feats_dir_maxpool = os.path.join(feats_dir_maxpool, activity)\n",
    "\n",
    "if not os.path.exists(feats_dir_maxpool):\n",
    "    os.makedirs(feats_dir_maxpool)\n",
    "\n",
    "offset_file = \"/mnt/data/ar-datasets/cmu-kitchen/annotation/offset_\"+activity+\".txt\"\n",
    "offset = json.load(open(offset_file))\n",
    "\n",
    "gt_maxpool_dir = \"/mnt/data/ar-datasets/cmu-kitchen/annotation/groundtruth_maxpool\"\n",
    "gt_maxpool_dir = os.path.join(gt_maxpool_dir,\"all\")\n",
    "\n",
    "if not os.path.exists(gt_maxpool_dir):\n",
    "    os.makedirs(gt_maxpool_dir)\n",
    "\n",
    "gt_file = \"/mnt/data/ar-datasets/cmu-kitchen/annotation/cmuK_\"+activity+\"_new.xlsx\"\n",
    "xls = pd.ExcelFile(gt_file)\n",
    "gt_all = pd.read_excel(xls, sheet_name=None)\n",
    "gt_all.keys()\n",
    "\n"
   ]
  },
  {
   "cell_type": "code",
   "execution_count": 60,
   "metadata": {},
   "outputs": [
    {
     "data": {
      "text/html": [
       "<div>\n",
       "<style scoped>\n",
       "    .dataframe tbody tr th:only-of-type {\n",
       "        vertical-align: middle;\n",
       "    }\n",
       "\n",
       "    .dataframe tbody tr th {\n",
       "        vertical-align: top;\n",
       "    }\n",
       "\n",
       "    .dataframe thead th {\n",
       "        text-align: right;\n",
       "    }\n",
       "</style>\n",
       "<table border=\"1\" class=\"dataframe\">\n",
       "  <thead>\n",
       "    <tr style=\"text-align: right;\">\n",
       "      <th></th>\n",
       "      <th>0</th>\n",
       "    </tr>\n",
       "  </thead>\n",
       "  <tbody>\n",
       "    <tr>\n",
       "      <th>0</th>\n",
       "      <td>take_peanut_butter_and_jam_glass</td>\n",
       "    </tr>\n",
       "    <tr>\n",
       "      <th>1</th>\n",
       "      <td>fill_jam</td>\n",
       "    </tr>\n",
       "    <tr>\n",
       "      <th>2</th>\n",
       "      <td>fill_peanut_butter</td>\n",
       "    </tr>\n",
       "    <tr>\n",
       "      <th>3</th>\n",
       "      <td>put_bread</td>\n",
       "    </tr>\n",
       "    <tr>\n",
       "      <th>4</th>\n",
       "      <td>take_knife</td>\n",
       "    </tr>\n",
       "    <tr>\n",
       "      <th>5</th>\n",
       "      <td>take_bread_bag</td>\n",
       "    </tr>\n",
       "    <tr>\n",
       "      <th>6</th>\n",
       "      <td>take_plate</td>\n",
       "    </tr>\n",
       "    <tr>\n",
       "      <th>7</th>\n",
       "      <td>remove_utensils</td>\n",
       "    </tr>\n",
       "    <tr>\n",
       "      <th>8</th>\n",
       "      <td>cut_sandwich</td>\n",
       "    </tr>\n",
       "  </tbody>\n",
       "</table>\n",
       "</div>"
      ],
      "text/plain": [
       "                                  0\n",
       "0  take_peanut_butter_and_jam_glass\n",
       "1                          fill_jam\n",
       "2                fill_peanut_butter\n",
       "3                         put_bread\n",
       "4                        take_knife\n",
       "5                    take_bread_bag\n",
       "6                        take_plate\n",
       "7                   remove_utensils\n",
       "8                      cut_sandwich"
      ]
     },
     "execution_count": 60,
     "metadata": {},
     "output_type": "execute_result"
    }
   ],
   "source": [
    "mapping_file = \"/mnt/data/ar-datasets/cmu-kitchen/annotation/mapping_\"+activity+\".txt\"\n",
    "mapping = pd.read_excel(xls, sheet_name = \"stats\", header=None)\n",
    "mapping[0] = mapping[0].str.split(\"'\").str.get(1)\n",
    "# mapping[0].to_csv(os.path.join(mapping_file), sep=' ', index=True, header=False)\n",
    "mapping"
   ]
  },
  {
   "cell_type": "code",
   "execution_count": 30,
   "metadata": {},
   "outputs": [
    {
     "name": "stderr",
     "output_type": "stream",
     "text": [
      "/home/anujraj/anaconda3/envs/myenv/lib/python3.7/site-packages/ipykernel_launcher.py:12: SettingWithCopyWarning: \n",
      "A value is trying to be set on a copy of a slice from a DataFrame.\n",
      "Try using .loc[row_indexer,col_indexer] = value instead\n",
      "\n",
      "See the caveats in the documentation: https://pandas.pydata.org/pandas-docs/stable/user_guide/indexing.html#returning-a-view-versus-a-copy\n",
      "  if sys.path[0] == '':\n",
      "/home/anujraj/anaconda3/envs/myenv/lib/python3.7/site-packages/ipykernel_launcher.py:13: SettingWithCopyWarning: \n",
      "A value is trying to be set on a copy of a slice from a DataFrame.\n",
      "Try using .loc[row_indexer,col_indexer] = value instead\n",
      "\n",
      "See the caveats in the documentation: https://pandas.pydata.org/pandas-docs/stable/user_guide/indexing.html#returning-a-view-versus-a-copy\n",
      "  del sys.path[0]\n",
      "/home/anujraj/anaconda3/envs/myenv/lib/python3.7/site-packages/ipykernel_launcher.py:14: SettingWithCopyWarning: \n",
      "A value is trying to be set on a copy of a slice from a DataFrame.\n",
      "Try using .loc[row_indexer,col_indexer] = value instead\n",
      "\n",
      "See the caveats in the documentation: https://pandas.pydata.org/pandas-docs/stable/user_guide/indexing.html#returning-a-view-versus-a-copy\n",
      "  \n"
     ]
    }
   ],
   "source": [
    "#CREATE FINAL GROUPED FILE\n",
    "for subject in list(gt_all.keys()): #excluding key=stats\n",
    "    if subject == \"stats\":\n",
    "        continue\n",
    "    try:\n",
    "#         print(subject)\n",
    "        df = gt_all[subject]\n",
    "        df2 = df.loc[df[\"Grouped Labels\"].notnull()]\n",
    "        df3 = df2[df2.columns[2: ]]\n",
    "        temp =  df.loc[df[\"Original Labels\"]==\"(FINISHED)\", \"Start Time\"]\n",
    "        end_times = df3[\"Start Time\"][1: ].append(temp)\n",
    "        df3[\"End Time\"] = end_times.values\n",
    "        df3[\"Start Time\"]+= offset[subject]\n",
    "        df3[\"End Time\"]+= offset[subject]\n",
    "        gt_all[subject] = df3\n",
    "    except Exception as e:\n",
    "        print(subject, e)"
   ]
  },
  {
   "cell_type": "code",
   "execution_count": 31,
   "metadata": {},
   "outputs": [],
   "source": [
    "# # print (round (gt_all[\"S37\"][\"Start Time\"]*0.03).astype(int) , (gt_all[\"S37\"][\"Start Time\"]*0.03))\n",
    "# gt_all[\"S37\"]\n",
    "\n",
    "# for idx, label in gt_all[\"S37\"].iterrows():\n",
    "#     print(idx, label[\"Start Time\"])"
   ]
  },
  {
   "cell_type": "code",
   "execution_count": 32,
   "metadata": {},
   "outputs": [],
   "source": [
    "# print final anotation labels"
   ]
  },
  {
   "cell_type": "code",
   "execution_count": 33,
   "metadata": {},
   "outputs": [
    {
     "data": {
      "text/plain": [
       "[['S07_Sandwich_6510211.npy',\n",
       "  'S07_Sandwich_7150991.npy',\n",
       "  'S07_Sandwich_7151020.npy',\n",
       "  'S07_Sandwich_7151062.npy',\n",
       "  'S07_Sandwich_8421130.npy'],\n",
       " ['S08_Sandwich_6510211.npy',\n",
       "  'S08_Sandwich_7150991.npy',\n",
       "  'S08_Sandwich_7151020.npy',\n",
       "  'S08_Sandwich_7151062.npy',\n",
       "  'S08_Sandwich_8421130.npy'],\n",
       " ['S12_Sandwich_6510211.npy',\n",
       "  'S12_Sandwich_7150991.npy',\n",
       "  'S12_Sandwich_7151020.npy',\n",
       "  'S12_Sandwich_7151062.npy',\n",
       "  'S12_Sandwich_8421130.npy'],\n",
       " ['S13_Sandwich_6510211.npy',\n",
       "  'S13_Sandwich_7150991.npy',\n",
       "  'S13_Sandwich_7151020.npy',\n",
       "  'S13_Sandwich_7151062.npy',\n",
       "  'S13_Sandwich_8421130.npy'],\n",
       " ['S15_Sandwich_6510211.npy',\n",
       "  'S15_Sandwich_7150991.npy',\n",
       "  'S15_Sandwich_7151020.npy',\n",
       "  'S15_Sandwich_7151062.npy',\n",
       "  'S15_Sandwich_8421130.npy'],\n",
       " ['S16_Sandwich_6510211.npy',\n",
       "  'S16_Sandwich_7150991.npy',\n",
       "  'S16_Sandwich_7151020.npy',\n",
       "  'S16_Sandwich_7151062.npy',\n",
       "  'S16_Sandwich_8421130.npy'],\n",
       " ['S17_Sandwich_6510211.npy',\n",
       "  'S17_Sandwich_7150991.npy',\n",
       "  'S17_Sandwich_7151020.npy',\n",
       "  'S17_Sandwich_7151062.npy',\n",
       "  'S17_Sandwich_8421130.npy'],\n",
       " ['S18_Sandwich_6510211.npy',\n",
       "  'S18_Sandwich_7150991.npy',\n",
       "  'S18_Sandwich_7151020.npy',\n",
       "  'S18_Sandwich_7151062.npy',\n",
       "  'S18_Sandwich_8421130.npy'],\n",
       " ['S19_Sandwich_6510211.npy',\n",
       "  'S19_Sandwich_7150991.npy',\n",
       "  'S19_Sandwich_7151020.npy',\n",
       "  'S19_Sandwich_7151062.npy',\n",
       "  'S19_Sandwich_8421130.npy'],\n",
       " ['S20_Sandwich_6510211.npy',\n",
       "  'S20_Sandwich_7150991.npy',\n",
       "  'S20_Sandwich_7151020.npy',\n",
       "  'S20_Sandwich_7151062.npy',\n",
       "  'S20_Sandwich_8421130.npy'],\n",
       " ['S22_Sandwich_6510211.npy',\n",
       "  'S22_Sandwich_7150991.npy',\n",
       "  'S22_Sandwich_7151020.npy',\n",
       "  'S22_Sandwich_7151062.npy',\n",
       "  'S22_Sandwich_8421130.npy'],\n",
       " ['S25_Sandwich_6510211.npy',\n",
       "  'S25_Sandwich_7150991.npy',\n",
       "  'S25_Sandwich_7151020.npy',\n",
       "  'S25_Sandwich_7151062.npy',\n",
       "  'S25_Sandwich_8421130.npy'],\n",
       " ['S28_Sandwich_6510211.npy',\n",
       "  'S28_Sandwich_7150991.npy',\n",
       "  'S28_Sandwich_7150996.npy',\n",
       "  'S28_Sandwich_7151020.npy',\n",
       "  'S28_Sandwich_7151062.npy',\n",
       "  'S28_Sandwich_8421130.npy'],\n",
       " ['S29_Sandwich_6510211.npy',\n",
       "  'S29_Sandwich_7150991.npy',\n",
       "  'S29_Sandwich_7150996.npy',\n",
       "  'S29_Sandwich_7151020.npy',\n",
       "  'S29_Sandwich_7151062.npy',\n",
       "  'S29_Sandwich_8421130.npy'],\n",
       " ['S30_Sandwich_6510211.npy',\n",
       "  'S30_Sandwich_7150991.npy',\n",
       "  'S30_Sandwich_7150996.npy',\n",
       "  'S30_Sandwich_7151020.npy',\n",
       "  'S30_Sandwich_7151062.npy',\n",
       "  'S30_Sandwich_8421130.npy'],\n",
       " ['S31_Sandwich_6510211.npy',\n",
       "  'S31_Sandwich_7150991.npy',\n",
       "  'S31_Sandwich_7150996.npy',\n",
       "  'S31_Sandwich_7151020.npy',\n",
       "  'S31_Sandwich_7151062.npy',\n",
       "  'S31_Sandwich_8421130.npy'],\n",
       " ['S32_Sandwich_6510211.npy',\n",
       "  'S32_Sandwich_7150991.npy',\n",
       "  'S32_Sandwich_7150996.npy',\n",
       "  'S32_Sandwich_7151020.npy',\n",
       "  'S32_Sandwich_7151062.npy',\n",
       "  'S32_Sandwich_8421130.npy'],\n",
       " ['S33_Sandwich_6510211.npy',\n",
       "  'S33_Sandwich_7150991.npy',\n",
       "  'S33_Sandwich_7150996.npy',\n",
       "  'S33_Sandwich_7151020.npy',\n",
       "  'S33_Sandwich_7151062.npy',\n",
       "  'S33_Sandwich_8421130.npy'],\n",
       " ['S34_Sandwich_6510211.npy',\n",
       "  'S34_Sandwich_7150991.npy',\n",
       "  'S34_Sandwich_7150996.npy',\n",
       "  'S34_Sandwich_7151020.npy',\n",
       "  'S34_Sandwich_7151062.npy',\n",
       "  'S34_Sandwich_8421130.npy'],\n",
       " ['S35_Sandwich_6510211.npy',\n",
       "  'S35_Sandwich_7150991.npy',\n",
       "  'S35_Sandwich_7150996.npy',\n",
       "  'S35_Sandwich_7151020.npy',\n",
       "  'S35_Sandwich_7151062.npy',\n",
       "  'S35_Sandwich_8421130.npy'],\n",
       " ['S36_Sandwich_6510211.npy',\n",
       "  'S36_Sandwich_7150991.npy',\n",
       "  'S36_Sandwich_7150996.npy',\n",
       "  'S36_Sandwich_7151020.npy',\n",
       "  'S36_Sandwich_7151062.npy',\n",
       "  'S36_Sandwich_8421130.npy'],\n",
       " ['S37_Sandwich_6510211.npy',\n",
       "  'S37_Sandwich_7150991.npy',\n",
       "  'S37_Sandwich_7150996.npy',\n",
       "  'S37_Sandwich_7151020.npy',\n",
       "  'S37_Sandwich_7151062.npy',\n",
       "  'S37_Sandwich_8421130.npy'],\n",
       " ['S40_Sandwich_6510211.npy',\n",
       "  'S40_Sandwich_7150991.npy',\n",
       "  'S40_Sandwich_7150996.npy',\n",
       "  'S40_Sandwich_7151020.npy',\n",
       "  'S40_Sandwich_7151062.npy',\n",
       "  'S40_Sandwich_8421130.npy'],\n",
       " ['S41_Sandwich_6510211.npy',\n",
       "  'S41_Sandwich_7150991.npy',\n",
       "  'S41_Sandwich_7150996.npy',\n",
       "  'S41_Sandwich_7151020.npy',\n",
       "  'S41_Sandwich_7151062.npy',\n",
       "  'S41_Sandwich_8421130.npy'],\n",
       " ['S47_Sandwich_6510211.npy',\n",
       "  'S47_Sandwich_7150991.npy',\n",
       "  'S47_Sandwich_7150996.npy',\n",
       "  'S47_Sandwich_7151020.npy',\n",
       "  'S47_Sandwich_7151062.npy',\n",
       "  'S47_Sandwich_8421130.npy'],\n",
       " ['S48_Sandwich_6510211.npy',\n",
       "  'S48_Sandwich_7150991.npy',\n",
       "  'S48_Sandwich_7150996.npy',\n",
       "  'S48_Sandwich_7151020.npy',\n",
       "  'S48_Sandwich_7151062.npy',\n",
       "  'S48_Sandwich_8421130.npy'],\n",
       " ['S49_Sandwich_6510211.npy',\n",
       "  'S49_Sandwich_7150991.npy',\n",
       "  'S49_Sandwich_7150996.npy',\n",
       "  'S49_Sandwich_7151020.npy',\n",
       "  'S49_Sandwich_7151062.npy',\n",
       "  'S49_Sandwich_8421130.npy'],\n",
       " ['S50_Sandwich_6510211.npy',\n",
       "  'S50_Sandwich_7150991.npy',\n",
       "  'S50_Sandwich_7150996.npy',\n",
       "  'S50_Sandwich_7151020.npy',\n",
       "  'S50_Sandwich_7151062.npy',\n",
       "  'S50_Sandwich_8421130.npy'],\n",
       " ['S51_Sandwich_6510211.npy',\n",
       "  'S51_Sandwich_7150991.npy',\n",
       "  'S51_Sandwich_7150996.npy',\n",
       "  'S51_Sandwich_7151020.npy',\n",
       "  'S51_Sandwich_7151062.npy',\n",
       "  'S51_Sandwich_8421130.npy'],\n",
       " ['S52_Sandwich_6510211.npy',\n",
       "  'S52_Sandwich_7150996.npy',\n",
       "  'S52_Sandwich_7151020.npy',\n",
       "  'S52_Sandwich_7151062.npy',\n",
       "  'S52_Sandwich_8421130.npy'],\n",
       " ['S53_Sandwich_6510211.npy',\n",
       "  'S53_Sandwich_7150991.npy',\n",
       "  'S53_Sandwich_7150996.npy',\n",
       "  'S53_Sandwich_7151020.npy',\n",
       "  'S53_Sandwich_7151062.npy',\n",
       "  'S53_Sandwich_8421130.npy'],\n",
       " ['S54_Sandwich_6510211.npy',\n",
       "  'S54_Sandwich_7150991.npy',\n",
       "  'S54_Sandwich_7150996.npy',\n",
       "  'S54_Sandwich_7151020.npy',\n",
       "  'S54_Sandwich_7151062.npy',\n",
       "  'S54_Sandwich_8421130.npy'],\n",
       " ['S55_Sandwich_6510211.npy',\n",
       "  'S55_Sandwich_7150991.npy',\n",
       "  'S55_Sandwich_7150996.npy',\n",
       "  'S55_Sandwich_7151020.npy',\n",
       "  'S55_Sandwich_7151062.npy',\n",
       "  'S55_Sandwich_8421130.npy']]"
      ]
     },
     "execution_count": 33,
     "metadata": {},
     "output_type": "execute_result"
    }
   ],
   "source": [
    "feats_files = os.listdir(feats_dir_orig) \n",
    "feats_files = sorted(feats_files)\n",
    "#REMOVE temporary because last two files not maxpooled in curr dir\n",
    "# feats_files = [file for file in feats_files if \".npy\" in file]\n",
    "# feats_files = feats_files[:-1]\n",
    "\n",
    "\n",
    "feats_subjects = [list(g) for _,g in itertools.groupby(feats_files, lambda x: x.split('_')[0])]\n",
    "feats_subjects"
   ]
  },
  {
   "cell_type": "code",
   "execution_count": 34,
   "metadata": {},
   "outputs": [],
   "source": [
    "def get_maxpool_feats(feat, gt):\n",
    "    \n",
    "    feat_maxpool = np.zeros([gt.shape[0], feat.shape[1]])\n",
    "    idx=0\n",
    "    for _, label in gt.iterrows():\n",
    "        st_frame = round(label[\"Start Time\"]*0.03) #time(in ms ) to frame number conversion\n",
    "        end_frame = round(label[\"End Time\"]*0.03)\n",
    "#         print(\"start end frame: \", st_frame, end_frame)\n",
    "#         print(feat.shape)\n",
    "        bro = np.max(feat[st_frame:end_frame], axis=0)\n",
    "        feat_maxpool[idx]= bro\n",
    "        idx+=1\n",
    "#     print(feat.shape, feat_maxpool.shape, gt.shape)\n",
    "    return feat_maxpool\n",
    "    \n",
    "    \n",
    "    "
   ]
  },
  {
   "cell_type": "code",
   "execution_count": 35,
   "metadata": {},
   "outputs": [
    {
     "name": "stdout",
     "output_type": "stream",
     "text": [
      "S35_Sandwich_6510211.npy Cannot load file containing pickled data when allow_pickle=False\n",
      "S51_Sandwich_6510211.npy zero-size array to reduction operation maximum which has no identity\n"
     ]
    }
   ],
   "source": [
    "for subject in feats_subjects:\n",
    "    try:\n",
    "        if subject[0].split(\"_\")[0] in gt_all.keys():\n",
    "            for viewpoint in subject:\n",
    "                feat_filename = viewpoint.split(\".\")[0]\n",
    "                feat = np.load(os.path.join(feats_dir_orig, viewpoint))\n",
    "                feat_maxpool = get_maxpool_feats(feat, gt_all[feat_filename.split(\"_\")[0]])\n",
    "#                 print(viewpoint, feat.shape, feat_maxpool.shape)\n",
    "                temp = gt_all[feat_filename.split(\"_\")[0]][\"Grouped Labels\"]\n",
    "#                 print(temp)\n",
    "                temp.to_csv(os.path.join(gt_maxpool_dir, feat_filename+\".txt\"), sep='\\n', index=False, header=False)\n",
    "#                 break\n",
    "#         break\n",
    "                np.save(os.path.join(feats_dir_maxpool, feat_filename+\".npy\"), feat_maxpool)\n",
    "    except Exception as e:\n",
    "        print(subject[0], e)"
   ]
  },
  {
   "cell_type": "code",
   "execution_count": 28,
   "metadata": {},
   "outputs": [],
   "source": [
    "#PRINT gt files"
   ]
  },
  {
   "cell_type": "code",
   "execution_count": null,
   "metadata": {},
   "outputs": [],
   "source": []
  },
  {
   "cell_type": "code",
   "execution_count": 72,
   "metadata": {},
   "outputs": [
    {
     "data": {
      "text/plain": [
       "['take_knife',\n",
       " 'crack_egg',\n",
       " 'fill_brownie_mix',\n",
       " 'take_measuring_cup',\n",
       " 'fill_oil',\n",
       " 'take_brownie_box',\n",
       " 'put_bread',\n",
       " 'take_bread_bag',\n",
       " 'take_peanut_butter_and_jam_glass',\n",
       " 'take_bowl',\n",
       " 'stir',\n",
       " 'fill_peanut_butter',\n",
       " 'fill_jam',\n",
       " 'cut_sandwich',\n",
       " 'stir_egg',\n",
       " 'take_oil_butter',\n",
       " 'bake',\n",
       " 'remove_utensils',\n",
       " 'clean_hands',\n",
       " 'put_eggs_on_pan',\n",
       " 'put_pan',\n",
       " 'put_oil_butter',\n",
       " 'take_egg',\n",
       " 'add_salt_and_pepper',\n",
       " 'fill_butter',\n",
       " 'take_plate',\n",
       " 'fill_water',\n",
       " 'take_mixing_tool',\n",
       " 'fill_dough',\n",
       " 'put_eggs_on_plate',\n",
       " 'take_croutons',\n",
       " 'take_salt_and_pepper_shaker',\n",
       " 'take_oil_bottle']"
      ]
     },
     "execution_count": 72,
     "metadata": {},
     "output_type": "execute_result"
    }
   ],
   "source": [
    "pth = \"/mnt/data/ar-datasets/cmu-kitchen/annotation/\"\n",
    "mapping_all = \"mapping_all.txt\"\n",
    "acts = [\"Eggs\", \"Brownie\", \"Sandwich\"]\n",
    "\n",
    "all_labels = []\n",
    "for act in acts:\n",
    "    with open(os.path.join(pth, \"mapping_\" + act+\".txt\"), \"r\") as f:\n",
    "        labels = f.readlines()\n",
    "        labels = [label.strip().split()[1] for label in labels]\n",
    "        all_labels.extend(labels)\n",
    "        \n",
    "all_labels = list(set(all_labels))\n",
    "all_labels"
   ]
  },
  {
   "cell_type": "code",
   "execution_count": 74,
   "metadata": {},
   "outputs": [
    {
     "ename": "TypeError",
     "evalue": "not enough arguments for format string",
     "output_type": "error",
     "traceback": [
      "\u001b[0;31m---------------------------------------------------------------------------\u001b[0m",
      "\u001b[0;31mTypeError\u001b[0m                                 Traceback (most recent call last)",
      "\u001b[0;32m<ipython-input-74-b106e0e4c0ff>\u001b[0m in \u001b[0;36m<module>\u001b[0;34m\u001b[0m\n\u001b[1;32m      1\u001b[0m \u001b[0;32mwith\u001b[0m \u001b[0mopen\u001b[0m\u001b[0;34m(\u001b[0m\u001b[0mos\u001b[0m\u001b[0;34m.\u001b[0m\u001b[0mpath\u001b[0m\u001b[0;34m.\u001b[0m\u001b[0mjoin\u001b[0m\u001b[0;34m(\u001b[0m\u001b[0mpth\u001b[0m\u001b[0;34m,\u001b[0m \u001b[0mmapping_all\u001b[0m\u001b[0;34m)\u001b[0m\u001b[0;34m,\u001b[0m \u001b[0;34m'w'\u001b[0m\u001b[0;34m)\u001b[0m \u001b[0;32mas\u001b[0m \u001b[0mf\u001b[0m\u001b[0;34m:\u001b[0m\u001b[0;34m\u001b[0m\u001b[0;34m\u001b[0m\u001b[0m\n\u001b[1;32m      2\u001b[0m     \u001b[0;32mfor\u001b[0m \u001b[0mi\u001b[0m\u001b[0;34m,\u001b[0m \u001b[0mlabel\u001b[0m \u001b[0;32min\u001b[0m \u001b[0menumerate\u001b[0m\u001b[0;34m(\u001b[0m\u001b[0mall_labels\u001b[0m\u001b[0;34m)\u001b[0m\u001b[0;34m:\u001b[0m\u001b[0;34m\u001b[0m\u001b[0;34m\u001b[0m\u001b[0m\n\u001b[0;32m----> 3\u001b[0;31m         \u001b[0mf\u001b[0m\u001b[0;34m.\u001b[0m\u001b[0mwrite\u001b[0m\u001b[0;34m(\u001b[0m\u001b[0;34m\"%d %s\\n\"\u001b[0m \u001b[0;34m%\u001b[0m \u001b[0mi\u001b[0m\u001b[0;34m,\u001b[0m \u001b[0mlabels\u001b[0m\u001b[0;34m)\u001b[0m\u001b[0;34m\u001b[0m\u001b[0;34m\u001b[0m\u001b[0m\n\u001b[0m",
      "\u001b[0;31mTypeError\u001b[0m: not enough arguments for format string"
     ]
    }
   ],
   "source": [
    "with open(os.path.join(pth, mapping_all), 'w') as f:\n",
    "    for i, label in enumerate(all_labels):\n",
    "        f.write(\"%d %s\\n\" % (i, label)"
   ]
  },
  {
   "cell_type": "code",
   "execution_count": 76,
   "metadata": {},
   "outputs": [
    {
     "ename": "SyntaxError",
     "evalue": "invalid syntax (<ipython-input-76-45bf47ae59fd>, line 4)",
     "output_type": "error",
     "traceback": [
      "\u001b[0;36m  File \u001b[0;32m\"<ipython-input-76-45bf47ae59fd>\"\u001b[0;36m, line \u001b[0;32m4\u001b[0m\n\u001b[0;31m    a = \"%d %s\\n\" %.format( b, c)\u001b[0m\n\u001b[0m                   ^\u001b[0m\n\u001b[0;31mSyntaxError\u001b[0m\u001b[0;31m:\u001b[0m invalid syntax\n"
     ]
    }
   ],
   "source": [
    "b = 2\n",
    "c = \"th\"\n",
    "\n",
    "a = \"%d %s\\n\" %.format( b, c)\n",
    "a"
   ]
  },
  {
   "cell_type": "code",
   "execution_count": null,
   "metadata": {},
   "outputs": [],
   "source": []
  },
  {
   "cell_type": "code",
   "execution_count": null,
   "metadata": {},
   "outputs": [],
   "source": []
  },
  {
   "cell_type": "code",
   "execution_count": null,
   "metadata": {},
   "outputs": [],
   "source": []
  },
  {
   "cell_type": "code",
   "execution_count": null,
   "metadata": {},
   "outputs": [],
   "source": []
  },
  {
   "cell_type": "code",
   "execution_count": null,
   "metadata": {},
   "outputs": [],
   "source": [
    "!pwd"
   ]
  },
  {
   "cell_type": "code",
   "execution_count": null,
   "metadata": {},
   "outputs": [],
   "source": [
    "brozone = r\"C:\\Users\\dcsang\\PycharmProjects\\embedding\\breakfast\\Breakfast_fs\\groundTruth_maxpool_clean_splits\\split1\\test\"\n",
    "temp_path2 = os.path.join(brozone, \"P03_cam01_P03_cereals.txt\")\n",
    "\n",
    "# temp_path2 = os.path.join(gt_maxpool_dir, \"S36_Brownie_6510211.txt\")\n",
    "with open(temp_path2, \"r\") as f:\n",
    "    blah = f.readlines()\n",
    "blah"
   ]
  },
  {
   "cell_type": "code",
   "execution_count": null,
   "metadata": {},
   "outputs": [],
   "source": []
  },
  {
   "cell_type": "code",
   "execution_count": null,
   "metadata": {},
   "outputs": [],
   "source": []
  },
  {
   "cell_type": "code",
   "execution_count": null,
   "metadata": {},
   "outputs": [],
   "source": [
    "subject[0].split(\"_\")[0] in gt_all.keys()"
   ]
  },
  {
   "cell_type": "code",
   "execution_count": null,
   "metadata": {},
   "outputs": [],
   "source": [
    "blah = np.arange(100).reshape(5,20)"
   ]
  },
  {
   "cell_type": "code",
   "execution_count": null,
   "metadata": {},
   "outputs": [],
   "source": [
    "blah"
   ]
  },
  {
   "cell_type": "code",
   "execution_count": null,
   "metadata": {},
   "outputs": [],
   "source": [
    "blah2 = blah.max(axis=0)"
   ]
  },
  {
   "cell_type": "code",
   "execution_count": null,
   "metadata": {},
   "outputs": [],
   "source": [
    "blah2"
   ]
  },
  {
   "cell_type": "code",
   "execution_count": null,
   "metadata": {},
   "outputs": [],
   "source": [
    "path = r\"C:\\Users\\dcsang\\PycharmProjects\\embedding\\cmu-kitchen-capture\\Brownie\\S07_Brownie_Video\"\n",
    "file = \"S07_Brownie_6510211-1103.avi\"\n",
    "vid_path = os.path.join(path,file)"
   ]
  },
  {
   "cell_type": "code",
   "execution_count": null,
   "metadata": {},
   "outputs": [],
   "source": [
    "v = cv2.VideoCapture(vid_path)"
   ]
  },
  {
   "cell_type": "code",
   "execution_count": null,
   "metadata": {},
   "outputs": [],
   "source": [
    "v.set(cv2.CAP_PROP_POS_AVI_RATIO,1)\n",
    "v.get(cv2.CAP_PROP_POS_MSEC)\n",
    "\n",
    "import cv2\n",
    "\n",
    "cap = cv2.VideoCapture(vid_path)\n",
    "fps = cap.get(cv2.CAP_PROP_FPS)      # OpenCV2 version 2 used \"CV_CAP_PROP_FPS\"\n",
    "frame_count = int(cap.get(cv2.CAP_PROP_FRAME_COUNT))\n",
    "duration = frame_count/fps\n",
    "\n",
    "print('fps = ' + str(fps))\n",
    "print('number of frames = ' + str(frame_count))\n",
    "print('duration (S) = ' + str(duration))\n",
    "minutes = int(duration/60)\n",
    "seconds = duration%60\n",
    "print('duration (M:S) = ' + str(minutes) + ':' + str(seconds))\n",
    "\n",
    "cap.release()"
   ]
  },
  {
   "cell_type": "code",
   "execution_count": null,
   "metadata": {},
   "outputs": [],
   "source": [
    "# >>> v=cv2.VideoCapture('sample.avi')\n",
    "# >>> v.set(cv2.CAP_PROP_POS_AVI_RATIO,1)\n",
    "# True\n",
    "# >>> v.get(cv2.CAP_PROP_POS_MSEC)\n",
    "# 213400.0"
   ]
  },
  {
   "cell_type": "code",
   "execution_count": null,
   "metadata": {},
   "outputs": [],
   "source": [
    "temp_dir = r\"C:\\Users\\dcsang\\PycharmProjects\\embedding\\cmu-kitchen-capture\\features\\Brownie\"\n",
    "for file in os.listdir(temp_dir)[1:]:\n",
    "    try:\n",
    "        subject = file.split(\"_\")[0]\n",
    "        temp = np.load(os.path.join(temp_dir, file))\n",
    "        print(temp.shape, gt_all[subject].shape)\n",
    "    except Exception as e:\n",
    "        print(file, e)\n",
    "    "
   ]
  },
  {
   "cell_type": "code",
   "execution_count": null,
   "metadata": {},
   "outputs": [],
   "source": [
    "temp_file=r\"C:\\Users\\dcsang\\PycharmProjects\\embedding\\cmu-kitchen-capture\\features\\Brownie\\S36_Brownie_6510211.npy\"\n",
    "temp_feat = np.load(temp_file)\n",
    "print(temp_feat.shape)\n",
    "temp_feat_maxpool = get_maxpool_feats(feat, gt_all[\"S35\"])"
   ]
  },
  {
   "cell_type": "code",
   "execution_count": null,
   "metadata": {},
   "outputs": [],
   "source": [
    "temp_feat[217:216].max(axis=0).shape\n",
    "# gt_all[\"S35\"]"
   ]
  },
  {
   "cell_type": "code",
   "execution_count": null,
   "metadata": {},
   "outputs": [],
   "source": []
  }
 ],
 "metadata": {
  "kernelspec": {
   "display_name": "Python 3",
   "language": "python",
   "name": "python3"
  },
  "language_info": {
   "codemirror_mode": {
    "name": "ipython",
    "version": 3
   },
   "file_extension": ".py",
   "mimetype": "text/x-python",
   "name": "python",
   "nbconvert_exporter": "python",
   "pygments_lexer": "ipython3",
   "version": "3.7.6"
  }
 },
 "nbformat": 4,
 "nbformat_minor": 2
}
