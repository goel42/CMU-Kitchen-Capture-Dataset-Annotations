{
 "cells": [
  {
   "cell_type": "code",
   "execution_count": null,
   "metadata": {},
   "outputs": [],
   "source": [
    "import os\n",
    "import cv2\n",
    "from extract_frames import get_frames"
   ]
  },
  {
   "cell_type": "code",
   "execution_count": 11,
   "metadata": {},
   "outputs": [
    {
     "name": "stdout",
     "output_type": "stream",
     "text": [
      "Error in:  S29_Eggs_7151062-117.avi\n"
     ]
    }
   ],
   "source": [
    "activity = \"Eggs\"\n",
    "src_vids_path = os.path.join(\"/home/anujraj/cmu-kitchen-capture/raw\", activity)\n",
    "subjects = os.listdir(src_vids_path)\n",
    "subjects = sorted([subject for subject in subjects if \"Video\" in subject])\n",
    "\n",
    "for subject in subjects:\n",
    "        spath = os.path.join(src_vids_path, subject)        \n",
    "        viewpoints = os.listdir(spath)\n",
    "        viewpoints = [viewpoint for viewpoint in viewpoints if \".avi\" in viewpoint]\n",
    "        for viewpoint in viewpoints:\n",
    "            feat_filename = viewpoint.split(\"-\")[0]\n",
    "            viewpt_path = os.path.join(src_vids_path, subject, viewpoint)\n",
    "            frames_dir_path = viewpt_path.split(\".\")[0]\n",
    "            \n",
    "            cap = cv2.VideoCapture(viewpt_path)\n",
    "            length = int(cap.get(cv2.CAP_PROP_FRAME_COUNT))\n",
    "            files_count = len(os.listdir(frames_dir_path))\n",
    "            cap.release()\n",
    "            \n",
    "#             print(viewpoint, length, files_count, length==files_count)\n",
    "            if(length != files_count):\n",
    "                print(\"Error in: \", viewpoint)\n",
    "            get_frames(viewpt_path, feat_filename)"
   ]
  },
  {
   "cell_type": "code",
   "execution_count": null,
   "metadata": {},
   "outputs": [],
   "source": []
  }
 ],
 "metadata": {
  "kernelspec": {
   "display_name": "Python 3",
   "language": "python",
   "name": "python3"
  },
  "language_info": {
   "codemirror_mode": {
    "name": "ipython",
    "version": 3
   },
   "file_extension": ".py",
   "mimetype": "text/x-python",
   "name": "python",
   "nbconvert_exporter": "python",
   "pygments_lexer": "ipython3",
   "version": "3.7.6"
  }
 },
 "nbformat": 4,
 "nbformat_minor": 4
}
