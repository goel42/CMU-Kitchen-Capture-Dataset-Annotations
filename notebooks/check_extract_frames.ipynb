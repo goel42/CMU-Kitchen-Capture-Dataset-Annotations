{
 "cells": [
  {
   "cell_type": "code",
   "execution_count": 1,
   "metadata": {},
   "outputs": [],
   "source": [
    "import os\n",
    "import cv2\n",
    "from extract_frames import get_frames"
   ]
  },
  {
   "cell_type": "code",
   "execution_count": 4,
   "metadata": {},
   "outputs": [
    {
     "name": "stdout",
     "output_type": "stream",
     "text": [
      "Error in:  S48_Brownie_7150991-179.avi\n",
      "S48_Brownie_7150991-179.avi 12590 9460 False\n",
      "Error in:  S48_Brownie_7151020-203.avi\n",
      "S48_Brownie_7151020-203.avi 12590 4662 False\n"
     ]
    }
   ],
   "source": [
    "# activity = \"Brownie\"\n",
    "# src_vids_path = os.path.join(\"/home/anujraj/cmu-kitchen-capture/raw\", activity)\n",
    "# subjects = os.listdir(src_vids_path)\n",
    "# subjects = sorted([subject for subject in subjects if \"Video\" in subject])\n",
    "\n",
    "# for subject in subjects:\n",
    "#         spath = os.path.join(src_vids_path, subject)        \n",
    "#         viewpoints = os.listdir(spath)\n",
    "#         viewpoints = [viewpoint for viewpoint in viewpoints if \".avi\" in viewpoint]\n",
    "#         for viewpoint in viewpoints:\n",
    "#             feat_filename = viewpoint.split(\"-\")[0]\n",
    "#             viewpt_path = os.path.join(src_vids_path, subject, viewpoint)\n",
    "#             frames_dir_path = viewpt_path.split(\".\")[0]\n",
    "            \n",
    "#             cap = cv2.VideoCapture(viewpt_path)\n",
    "#             length = int(cap.get(cv2.CAP_PROP_FRAME_COUNT))\n",
    "#             files_count = len(os.listdir(frames_dir_path))\n",
    "#             cap.release()\n",
    "            \n",
    "# #             print(viewpoint, length, files_count, length==files_count)\n",
    "#             if(length != files_count):\n",
    "#                 print(\"Error in: \", viewpoint)\n",
    "#                 print(viewpoint, length, files_count, length==files_count)\n",
    "\n",
    "# #                 get_frames(viewpt_path, feat_filename)"
   ]
  },
  {
   "cell_type": "code",
   "execution_count": 22,
   "metadata": {},
   "outputs": [],
   "source": [
    "activity = \"Brownie\"\n",
    "# file = \"S25_Eggs_7151062.npy\"\n",
    "file = \"S19_Brownie_6510211.npy\"\n",
    "folder = os.path.join(\"/mnt/data/ar-datasets/cmu-kitchen/features2/\", activity)\n",
    "\n",
    "path = os.path.join(folder, file)"
   ]
  },
  {
   "cell_type": "code",
   "execution_count": 23,
   "metadata": {},
   "outputs": [],
   "source": [
    "import os\n",
    "import numpy as np"
   ]
  },
  {
   "cell_type": "code",
   "execution_count": 24,
   "metadata": {},
   "outputs": [],
   "source": [
    "blah = np.load(path)"
   ]
  },
  {
   "cell_type": "code",
   "execution_count": 25,
   "metadata": {},
   "outputs": [
    {
     "data": {
      "text/plain": [
       "(15834, 1024)"
      ]
     },
     "execution_count": 25,
     "metadata": {},
     "output_type": "execute_result"
    }
   ],
   "source": [
    "blah.shape"
   ]
  },
  {
   "cell_type": "code",
   "execution_count": null,
   "metadata": {},
   "outputs": [],
   "source": []
  }
 ],
 "metadata": {
  "kernelspec": {
   "display_name": "Python 3",
   "language": "python",
   "name": "python3"
  },
  "language_info": {
   "codemirror_mode": {
    "name": "ipython",
    "version": 3
   },
   "file_extension": ".py",
   "mimetype": "text/x-python",
   "name": "python",
   "nbconvert_exporter": "python",
   "pygments_lexer": "ipython3",
   "version": "3.7.6"
  }
 },
 "nbformat": 4,
 "nbformat_minor": 4
}
